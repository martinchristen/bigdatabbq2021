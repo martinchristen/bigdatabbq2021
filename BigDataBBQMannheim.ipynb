{
 "cells": [
  {
   "cell_type": "markdown",
   "metadata": {},
   "source": [
    "# Geospatial Analysis for the Smart City\n",
    "\n",
    "Big Data BBQ 9/24/2021\n",
    "\n",
    "* https://github.com/gboeing/osmnx\n",
    "* https://osmnx.readthedocs.io/en/stable/\n"
   ]
  },
  {
   "cell_type": "code",
   "execution_count": null,
   "metadata": {},
   "outputs": [],
   "source": [
    "import folium\n",
    "import osmnx as ox\n",
    "import networkx as nx\n",
    "import pandas as pd\n",
    "import geopandas as gpd\n",
    "import matplotlib.pyplot as plt\n",
    "import seaborn as sns"
   ]
  },
  {
   "cell_type": "code",
   "execution_count": null,
   "metadata": {},
   "outputs": [],
   "source": [
    "ox.config(use_cache=True, log_console=False)"
   ]
  },
  {
   "cell_type": "markdown",
   "metadata": {},
   "source": [
    "### Retrieve Street Network from OSM Data\n",
    "\n",
    "* drive - get drivable public streets (but not service roads)\n",
    "* drive_service - get drivable streets, including service roads\n",
    "* walk - get all streets and paths that pedestrians can use (this network type ignores one-way directionality)\n",
    "* bike - get all streets and paths that cyclists can use\n",
    "* all - download all non-private OSM streets and paths\n",
    "* all_private - download all OSM streets and paths, including private-access ones"
   ]
  },
  {
   "cell_type": "code",
   "execution_count": null,
   "metadata": {},
   "outputs": [],
   "source": [
    "place = \"Mannheim, Germany\"\n",
    "graph = ox.graph_from_place(place, network_type='drive')"
   ]
  },
  {
   "cell_type": "code",
   "execution_count": null,
   "metadata": {},
   "outputs": [],
   "source": [
    "fig, ax = ox.plot_graph(graph)"
   ]
  },
  {
   "cell_type": "markdown",
   "metadata": {},
   "source": [
    "#### Export als ESRI Shapefile"
   ]
  },
  {
   "cell_type": "code",
   "execution_count": null,
   "metadata": {},
   "outputs": [],
   "source": [
    "ox.save_graph_shapefile(graph, filepath='network-shape_mannheim')"
   ]
  },
  {
   "cell_type": "code",
   "execution_count": null,
   "metadata": {},
   "outputs": [],
   "source": [
    "nodes, streets = ox.graph_to_gdfs(graph)"
   ]
  },
  {
   "cell_type": "code",
   "execution_count": null,
   "metadata": {},
   "outputs": [],
   "source": [
    "len(streets)"
   ]
  },
  {
   "cell_type": "code",
   "execution_count": null,
   "metadata": {},
   "outputs": [],
   "source": [
    "streets.head()"
   ]
  },
  {
   "cell_type": "code",
   "execution_count": null,
   "metadata": {},
   "outputs": [],
   "source": [
    "street_types = pd.DataFrame(streets[\"highway\"].apply(pd.Series)[0].value_counts().reset_index())\n",
    "street_types.columns = [\"type\", \"count\"]"
   ]
  },
  {
   "cell_type": "code",
   "execution_count": null,
   "metadata": {},
   "outputs": [],
   "source": [
    "street_types"
   ]
  },
  {
   "cell_type": "code",
   "execution_count": null,
   "metadata": {},
   "outputs": [],
   "source": [
    "fig, ax = plt.subplots(figsize=(8,5))\n",
    "sns.barplot(y=\"type\", x=\"count\", data=street_types, ax=ax)\n",
    "plt.tight_layout()\n",
    "plt.show();"
   ]
  },
  {
   "cell_type": "markdown",
   "metadata": {},
   "source": [
    "### Display Street Network on a Map"
   ]
  },
  {
   "cell_type": "code",
   "execution_count": null,
   "metadata": {},
   "outputs": [],
   "source": [
    "m = folium.Map([49.473, 8.475],zoom_start=13,tiles=\"CartoDB dark_matter\")\n",
    "\n",
    "jsondata = streets.to_json()\n",
    "\n",
    "style = {'color': '#FFDD66', \n",
    "         'weight':'1'}\n",
    "\n",
    "folium.GeoJson(jsondata, style_function=lambda x: style).add_to(m)\n",
    "m"
   ]
  },
  {
   "cell_type": "markdown",
   "metadata": {},
   "source": [
    "### Routing\n"
   ]
  },
  {
   "cell_type": "code",
   "execution_count": null,
   "metadata": {},
   "outputs": [],
   "source": [
    "# Train Station\n",
    "pos_1 = ox.geocode('Mannheim HBF, Mannheim, Germany')\n",
    "pos_1"
   ]
  },
  {
   "cell_type": "code",
   "execution_count": null,
   "metadata": {},
   "outputs": [],
   "source": [
    "# MAFINEX\n",
    "pos_2 = ox.geocode('Julius-Hatry-Straße 1, 68163 Mannheim, Germany') \n",
    "pos_2"
   ]
  },
  {
   "cell_type": "markdown",
   "metadata": {},
   "source": [
    "#### Display on Map"
   ]
  },
  {
   "cell_type": "code",
   "execution_count": null,
   "metadata": {},
   "outputs": [],
   "source": [
    "m = folium.Map([49.473, 8.475], zoom_start=13,tiles=\"CartoDB dark_matter\")\n",
    "\n",
    "#jsondata = streets.to_json()\n",
    "\n",
    "style = {'color': '#FFDD66', \n",
    "         'weight':'1'}\n",
    "folium.GeoJson(jsondata, style_function=lambda x: style).add_to(m)\n",
    "\n",
    "folium.Marker(pos_1, \n",
    "              popup=\"Mannheim HBF\",\n",
    "              icon=folium.Icon(color=\"green\", prefix=\"fa\", icon=\"train\")).add_to(m)\n",
    "\n",
    "folium.Marker(pos_2, \n",
    "              popup=\"MAFINEX\",\n",
    "              icon=folium.Icon(color=\"red\", prefix=\"fa\", icon=\"star\")).add_to(m)\n",
    "m"
   ]
  },
  {
   "cell_type": "code",
   "execution_count": null,
   "metadata": {},
   "outputs": [],
   "source": [
    "origin_node = ox.get_nearest_node(graph, pos_1)\n",
    "destination_node = ox.get_nearest_node(graph, pos_2)"
   ]
  },
  {
   "cell_type": "markdown",
   "metadata": {},
   "source": [
    "#### Route finden"
   ]
  },
  {
   "cell_type": "code",
   "execution_count": null,
   "metadata": {},
   "outputs": [],
   "source": [
    "route = nx.shortest_path(graph, origin_node, destination_node)"
   ]
  },
  {
   "cell_type": "code",
   "execution_count": null,
   "metadata": {},
   "outputs": [],
   "source": [
    "fig, ax = ox.plot_graph_route(graph, route)"
   ]
  },
  {
   "cell_type": "code",
   "execution_count": null,
   "metadata": {},
   "outputs": [],
   "source": [
    "from shapely.geometry import LineString\n",
    "\n",
    "line = []\n",
    "for i in route:\n",
    "    point = (graph.nodes[i]['x'],graph.nodes[i]['y'])\n",
    "    line.append(point)\n",
    "    print(point)\n",
    "    \n",
    "ls = LineString(line)"
   ]
  },
  {
   "cell_type": "code",
   "execution_count": null,
   "metadata": {},
   "outputs": [],
   "source": []
  },
  {
   "cell_type": "markdown",
   "metadata": {},
   "source": [
    "#### GeoDataFrame from LineString\n"
   ]
  },
  {
   "cell_type": "code",
   "execution_count": null,
   "metadata": {},
   "outputs": [],
   "source": [
    "gdf_route = pd.DataFrame(data= [['route 1',ls]],columns=['route','geometry'])\n",
    "gdf_route"
   ]
  },
  {
   "cell_type": "code",
   "execution_count": null,
   "metadata": {},
   "outputs": [],
   "source": [
    "gdf_route = gpd.GeoDataFrame(gdf_route,geometry='geometry')\n",
    "gdf_route"
   ]
  },
  {
   "cell_type": "code",
   "execution_count": null,
   "metadata": {},
   "outputs": [],
   "source": [
    "gdf_route.plot();"
   ]
  },
  {
   "cell_type": "markdown",
   "metadata": {},
   "source": [
    "Convert this route to GeoJSON"
   ]
  },
  {
   "cell_type": "code",
   "execution_count": null,
   "metadata": {},
   "outputs": [],
   "source": [
    "jsonroute = gdf_route.to_json()"
   ]
  },
  {
   "cell_type": "code",
   "execution_count": null,
   "metadata": {},
   "outputs": [],
   "source": [
    "m = folium.Map([49.473, 8.475], zoom_start=13,tiles=\"CartoDB dark_matter\")\n",
    "\n",
    "#jsondata = streets.to_json()\n",
    "\n",
    "style = {'color': '#FFDD66', \n",
    "         'weight':'1'}\n",
    "\n",
    "route_style = {'color': '#FF0000',\n",
    "              'weight' : '4'}\n",
    "\n",
    "folium.GeoJson(jsondata, style_function=lambda x: style).add_to(m)\n",
    "folium.GeoJson(jsonroute, style_function=lambda x: route_style).add_to(m)\n",
    "\n",
    "folium.Marker(pos_1, \n",
    "              popup=\"Mannheim HBF\",\n",
    "              icon=folium.Icon(color=\"green\", prefix=\"fa\", icon=\"train\")).add_to(m)\n",
    "\n",
    "folium.Marker(pos_2, \n",
    "              popup=\"MAFINEX\",\n",
    "              icon=folium.Icon(color=\"red\", prefix=\"fa\", icon=\"star\")).add_to(m)\n",
    "m"
   ]
  },
  {
   "cell_type": "markdown",
   "metadata": {},
   "source": [
    "### Building Footprints"
   ]
  },
  {
   "cell_type": "code",
   "execution_count": null,
   "metadata": {},
   "outputs": [],
   "source": [
    "buildings = ox.geometries_from_place(\"Mannheim, Germany\", tags={'building':True})\n",
    "\n",
    "buildings.shape"
   ]
  },
  {
   "cell_type": "code",
   "execution_count": null,
   "metadata": {},
   "outputs": [],
   "source": [
    "buildings.head()"
   ]
  },
  {
   "cell_type": "code",
   "execution_count": null,
   "metadata": {},
   "outputs": [],
   "source": [
    "ox.plot_footprints(buildings, figsize=(16,15));"
   ]
  },
  {
   "cell_type": "markdown",
   "metadata": {},
   "source": [
    "### Retrieve some data"
   ]
  },
  {
   "cell_type": "code",
   "execution_count": null,
   "metadata": {},
   "outputs": [],
   "source": [
    "museum = buildings.query(\"tourism == 'museum'\")\n",
    "museum = museum[['name', 'geometry']]\n",
    "museum.head(20)"
   ]
  },
  {
   "cell_type": "code",
   "execution_count": null,
   "metadata": {},
   "outputs": [],
   "source": [
    "ox.plot_footprints(museum, figsize=(16,15));"
   ]
  },
  {
   "cell_type": "markdown",
   "metadata": {},
   "source": [
    "### Darstellung auf Karte"
   ]
  },
  {
   "cell_type": "code",
   "execution_count": null,
   "metadata": {},
   "outputs": [],
   "source": [
    "import html\n",
    "\n",
    "m = folium.Map([49.473, 8.475],zoom_start=15)\n",
    "\n",
    "\n",
    "style = {'color': '#FF0000',\n",
    "         'fillColor': '#FFFF00',\n",
    "         'weight':'2'\n",
    "        }\n",
    "\n",
    "def building(building):\n",
    "    jsondata = gpd.GeoSeries([building[\"geometry\"]]).to_json()\n",
    "    name = html.escape(building[\"name\"]) \n",
    "    folium.GeoJson(jsondata, style_function=lambda x: style).add_child(folium.Popup(name)).add_to(m)\n",
    "\n",
    "museum.apply(building, axis=1)\n",
    "\n",
    "m.save(\"museums.html\")\n",
    "m"
   ]
  },
  {
   "cell_type": "markdown",
   "metadata": {},
   "source": [
    "### Marker from Buildings"
   ]
  },
  {
   "cell_type": "code",
   "execution_count": null,
   "metadata": {},
   "outputs": [],
   "source": [
    "def get_geometry(x):\n",
    "    g = x[\"geometry\"]\n",
    "    c = g.centroid\n",
    "    return c\n",
    "   \n",
    "centroid = museum.apply(get_geometry, axis=1)"
   ]
  },
  {
   "cell_type": "code",
   "execution_count": null,
   "metadata": {},
   "outputs": [],
   "source": [
    "museum[\"centroid\"] = centroid "
   ]
  },
  {
   "cell_type": "code",
   "execution_count": null,
   "metadata": {},
   "outputs": [],
   "source": [
    "museum.head()"
   ]
  },
  {
   "cell_type": "code",
   "execution_count": null,
   "metadata": {},
   "outputs": [],
   "source": [
    "import html\n",
    "\n",
    "m = folium.Map([49.473, 8.475],zoom_start=15)\n",
    "\n",
    "\n",
    "def building(building):\n",
    "    lng = building[\"centroid\"].x\n",
    "    lat = building[\"centroid\"].y\n",
    "\n",
    "    name = html.escape(building[\"name\"])\n",
    "   \n",
    "    folium.Marker([lat,lng], \n",
    "              popup=name,\n",
    "              icon=folium.Icon(color=\"red\", prefix=\"fa\", icon=\"university\")).add_to(m)\n",
    "\n",
    "\n",
    "museum.apply(building, axis=1)\n",
    "\n",
    "m"
   ]
  },
  {
   "cell_type": "markdown",
   "metadata": {},
   "source": [
    "### Get Points of interest from OSM"
   ]
  },
  {
   "cell_type": "code",
   "execution_count": null,
   "metadata": {},
   "outputs": [],
   "source": [
    "museum = ox.pois_from_place(\"Mannheim, Germany\", tags={'tourism': 'museum'})"
   ]
  },
  {
   "cell_type": "code",
   "execution_count": null,
   "metadata": {},
   "outputs": [],
   "source": [
    "len(museum)"
   ]
  },
  {
   "cell_type": "code",
   "execution_count": null,
   "metadata": {},
   "outputs": [],
   "source": [
    "museum.head()"
   ]
  },
  {
   "cell_type": "code",
   "execution_count": null,
   "metadata": {},
   "outputs": [],
   "source": [
    "import html\n",
    "import shapely\n",
    "\n",
    "m = folium.Map([49.473, 8.475],zoom_start=15)\n",
    "\n",
    "\n",
    "def mus2poi(x):\n",
    "    if type(x[\"geometry\"]) == shapely.geometry.point.Point:\n",
    "        lng = x[\"geometry\"].x\n",
    "        lat = x[\"geometry\"].y\n",
    "\n",
    "\n",
    "        folium.Marker([lat,lng], \n",
    "                  popup=x[\"name\"],\n",
    "                  icon=folium.Icon(color=\"green\", prefix=\"fa\", icon=\"university\")).add_to(m)\n",
    "\n",
    "\n",
    "museum.apply(mus2poi, axis=1)\n",
    "\n",
    "m"
   ]
  },
  {
   "cell_type": "code",
   "execution_count": null,
   "metadata": {},
   "outputs": [],
   "source": []
  }
 ],
 "metadata": {
  "kernelspec": {
   "display_name": "GeoPython",
   "language": "python",
   "name": "geopython"
  },
  "language_info": {
   "codemirror_mode": {
    "name": "ipython",
    "version": 3
   },
   "file_extension": ".py",
   "mimetype": "text/x-python",
   "name": "python",
   "nbconvert_exporter": "python",
   "pygments_lexer": "ipython3",
   "version": "3.7.7"
  }
 },
 "nbformat": 4,
 "nbformat_minor": 4
}
